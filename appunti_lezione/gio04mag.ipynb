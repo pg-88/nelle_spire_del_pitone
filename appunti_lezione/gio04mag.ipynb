{
 "cells": [
  {
   "attachments": {},
   "cell_type": "markdown",
   "metadata": {},
   "source": [
    "# API \n",
    "- serve per far parlare il front-end con il back-end\n",
    "- a ogni chiamata c'è il ritorno di una risposta\n",
    "- per richieste e risposte si usa [JSON](https://en.wikipedia.org/wiki/JSON)\n",
    "- possono essere richiamate in qualsiasi linguaggio\n",
    "\n",
    "\n",
    "\n",
    "## [REST](https://it.wikipedia.org/wiki/Representational_state_transfer):\n",
    "  - representational state transfer \n",
    "  - permette di scalare il servizio\n",
    "  - permette di scalare la struttura dati\n",
    "  - impiego dei 4 principali metodi del protocollo HTTP\n",
    "\n",
    "\n",
    "## Metodi:\n",
    "- GET: recupero una risorsa \n",
    "- POST: leggere e creare una risosra, più utilizzata della get perchè permette criptazione\n",
    "- PUT/PATCH: aggiornare una risorsa\n",
    "- DELETE\n",
    "\n",
    "Protocolo utilizzato HTTP/1.1 -> [status code](https://developer.mozilla.org/en-US/docs/Web/HTTP/Status)\n",
    "\n",
    "## tipi di API\n",
    "\n",
    "Le rest sono le più utilizzate, prima c'erano le soap, ultimamente sono arrivate le GraphQL, per lo streaming si usano RPC, ApacheKafka\n",
    "\n",
    "## Ramirez ci ha donato [FastAPI](https://fastapi.tiangolo.com/)\n",
    "\n",
    "FastAPI è una libreria che consente di creare rapidamente e in maniera semplice una API con python.\n",
    "\n",
    "Permette di creare una documentazione automaticamente che è lo swagger.\n",
    "- Esistono 2 swagger: `url.../docs ` e `url.../redoc`\n",
    "\n",
    "### UVICORN & STARLET\n",
    "\n",
    "Sono 2 librerie che lavorano con fastAPI, uvicorn è il server che gestisce l'API, starlet lavora all'interno di fastAPI\n",
    "\n",
    "## Proviamo openWeather\n",
    "\n",
    "registrazione\n",
    "\n",
    "### .env\n",
    "\n",
    "Per tenere la chiave protetta la mettiamo in un file `.env` che aggiungo nella gitignore e uno `.env_template` uguale ma senza il valore che andrà nella repo in modo che la struttura dei file del codice sia più leggibile per chi farà un fork"
   ]
  }
 ],
 "metadata": {
  "kernelspec": {
   "display_name": "Python 3",
   "language": "python",
   "name": "python3"
  },
  "language_info": {
   "name": "python",
   "version": "3.10.6"
  },
  "orig_nbformat": 4
 },
 "nbformat": 4,
 "nbformat_minor": 2
}
