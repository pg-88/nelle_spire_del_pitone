{
 "cells": [
  {
   "attachments": {},
   "cell_type": "markdown",
   "metadata": {},
   "source": [
    "# API \n",
    "- serve per far parlare il front-end con il back-end\n",
    "- a ogni chiamata c'è il ritorno di una risposta\n",
    "- per richieste e risposte si usa [JSON](https://en.wikipedia.org/wiki/JSON)\n",
    "- possono essere richiamate in qualsiasi linguaggio\n",
    "\n",
    "\n",
    "\n",
    "## [REST](https://it.wikipedia.org/wiki/Representational_state_transfer):\n",
    "  - representational state transfer \n",
    "  - permette di scalare il servizio\n",
    "  - permette di scalare la struttura dati\n",
    "  - impiego dei 4 principali metodi del protocollo HTTP\n",
    "\n",
    "\n",
    "## Metodi:\n",
    "- GET: recupero una risorsa \n",
    "- POST: leggere e creare una risosra, più utilizzata della get perchè permette criptazione\n",
    "- PUT/PATCH: aggiornare una risorsa\n",
    "- DELETE\n",
    "\n",
    "Protocolo utilizzato HTTP/1.1 -> [status code](https://developer.mozilla.org/en-US/docs/Web/HTTP/Status)\n",
    "\n",
    "## tipi di API\n",
    "\n",
    "Le rest sono le più utilizzate, prima c'erano le soap, ultimamente sono arrivate le GraphQL, per lo streaming si usano RPC, ApacheKafka\n",
    "\n",
    "## Ramirez ci ha donato [FastAPI](https://fastapi.tiangolo.com/)\n",
    "\n",
    "FastAPI è una libreria che consente di creare rapidamente e in maniera semplice una API con python.\n",
    "\n",
    "Permette di creare una documentazione automaticamente che è lo swagger.\n",
    "- Esistono 2 swagger: `url.../docs ` e `url.../redoc`\n",
    "\n",
    "### UVICORN & STARLET\n",
    "\n",
    "Sono 2 librerie che lavorano con fastAPI, uvicorn è il server che gestisce l'API, starlet lavora all'interno di fastAPI\n",
    "\n",
    "## Proviamo openWeather\n",
    "\n",
    "registrazione\n",
    "\n",
    "### .env\n",
    "\n",
    "Per tenere la chiave protetta la mettiamo in un file `.env` che aggiungo nella gitignore e uno `.env_template` uguale ma senza il valore che andrà nella repo in modo che la struttura dei file del codice sia più leggibile per chi farà un fork\n",
    "\n",
    "[vedi repo](https://github.com/pg-88/my_stupid_weather_app.git)"
   ]
  },
  {
   "attachments": {},
   "cell_type": "markdown",
   "metadata": {},
   "source": [
    "## Immagini API \n",
    "Documentazione API\n",
    "[https://arasaac.org/developers/api](https://arasaac.org/developers/api)\n",
    "\n"
   ]
  },
  {
   "attachments": {},
   "cell_type": "markdown",
   "metadata": {},
   "source": [
    "## Testare API\n",
    "\n",
    "Thunder è un nuovo client per testare le API ed è molto figo!!!"
   ]
  },
  {
   "attachments": {},
   "cell_type": "markdown",
   "metadata": {},
   "source": [
    "## python decorator\n",
    "\n",
    "https://realpython.com/primer-on-python-decorators/\n",
    "\n",
    "FastAPI fa pesantemente uso dei decoratori\n",
    "\n",
    "**per usare FastAPI**:\n",
    "- il file che lancia `uvicorn` si deve sempre chiamare main.py"
   ]
  },
  {
   "cell_type": "code",
   "execution_count": 1,
   "metadata": {},
   "outputs": [
    {
     "ename": "ModuleNotFoundError",
     "evalue": "No module named 'fastapi'",
     "output_type": "error",
     "traceback": [
      "\u001b[0;31m---------------------------------------------------------------------------\u001b[0m",
      "\u001b[0;31mModuleNotFoundError\u001b[0m                       Traceback (most recent call last)",
      "\u001b[1;32m/home/pg/coding/corsoFORMart/modulo_python/repositories/nelle_spire_del_pitone/appunti_lezione/gio04mag.ipynb Cell 5\u001b[0m in \u001b[0;36m1\n\u001b[0;32m----> <a href='vscode-notebook-cell:/home/pg/coding/corsoFORMart/modulo_python/repositories/nelle_spire_del_pitone/appunti_lezione/gio04mag.ipynb#W4sZmlsZQ%3D%3D?line=0'>1</a>\u001b[0m \u001b[39mfrom\u001b[39;00m \u001b[39mfastapi\u001b[39;00m \u001b[39mimport\u001b[39;00m FastAPI \n",
      "\u001b[0;31mModuleNotFoundError\u001b[0m: No module named 'fastapi'"
     ]
    }
   ],
   "source": [
    "### QUESTO È IL MIO TEMPLATE FASTAPI ###\n",
    "\n",
    "\n",
    "from fastapi import FastAPI\n",
    "import uvicorn\n",
    "\n",
    "app = FastAPI()\n",
    "@app.get(\"/\")\n",
    "async def greetings():\n",
    "    return {\"first_part\": \"hello\",\n",
    "            \"second_part\": \"world\"}\n",
    "\n",
    "\n",
    "\n",
    "#### File main.py\n",
    "if __name__ == '__main__':\n",
    "    uvicorn.run(\"main:app\", host=\"0.0.0.0\", port=8000, reload=True)\n"
   ]
  }
 ],
 "metadata": {
  "kernelspec": {
   "display_name": "Python 3",
   "language": "python",
   "name": "python3"
  },
  "language_info": {
   "codemirror_mode": {
    "name": "ipython",
    "version": 3
   },
   "file_extension": ".py",
   "mimetype": "text/x-python",
   "name": "python",
   "nbconvert_exporter": "python",
   "pygments_lexer": "ipython3",
   "version": "3.10.6"
  },
  "orig_nbformat": 4
 },
 "nbformat": 4,
 "nbformat_minor": 2
}
