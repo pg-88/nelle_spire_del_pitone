{
 "cells": [
  {
   "attachments": {},
   "cell_type": "markdown",
   "metadata": {},
   "source": [
    "# Metriche Errore\n",
    "\n",
    "- Nella regressione lineare o multipla, una volta generato il modello predittivo, possiamo calcolarne l'errore rispetto ai punti tenuti per il test.\n",
    "- Errore è la differenza tra il target test (che non ha influito nella creazione del modello), e la predizione del modello negli stessi punti del test.\n",
    "\n",
    ">tipicamente nella regressione lineare/multipla i punti più estremi saranno affetti dall'errore maggiore in quanto la retta è molto rigida come \n",
    "\n",
    "## Errore nella regressione\n",
    "\n",
    "\n",
    "Le metriche dell'errore che ci possono aiutare a capire la bontà del modello sono:\n",
    "(si calcolano sulle variabile del test sono nel modulo metrics di scikitlearn)\n",
    "\n",
    "### Mean Absolute Error\n",
    "\n",
    "media degli errori valutati come differenze rispetto al valore predetto. Si rischia che gli errori si compensino.\n",
    "\n",
    "### mean squared error\n",
    "\n",
    "per evitare che gli errori si cancellino valuto il loro quadrato \n",
    "\n",
    "### Root Mean Square Error\n",
    "\n",
    "dalla mean square error faccio la radice quadrata e ritorno alla stessa dimensione della variabile di partenza.\n",
    "\n",
    "### Coefficiente di Determinazione\n",
    "**R-quadro-Score** numero compreso tra 0-1 che definisce quanto bene il modello si adatta ai dati.\n",
    "\n",
    "## Step per arrivare al modello\n",
    "\n",
    "1. definire qual'è il target (`y`) e quale parte dei dati è la feature (`X`)\n",
    "   1. suddividere sia target che feature in 2 insiemi Train e Test \n",
    "2. Capire quale può essere il modello migliore da generare per rappresentare il problema (LinearRegression, MultipleRegression, LogisticRegression, ecc...)\n",
    "3. Creare il Modello \n",
    "4. Calcolare la predizione usando la parte di test delle feature per ottenere una previsone della target generata dal modello\n",
    "5. Calcolare gli 'errori' del modello sulla base delle predizioni generate dal test rispetto alle target tenute da parte per il test\n"
   ]
  },
  {
   "cell_type": "code",
   "execution_count": 2,
   "metadata": {},
   "outputs": [],
   "source": [
    "import pandas as pd\n",
    "from sklearn.metrics import r2_score, mean_absolute_error, mean_squared_error\n",
    "import mlem\n",
    "import joblib\n",
    "\n",
    "\n"
   ]
  },
  {
   "attachments": {},
   "cell_type": "markdown",
   "metadata": {},
   "source": [
    "## Salvare i modelli\n",
    "Generare un file binario che contiene il modello.\n",
    "Per generare questo file si usa Joblib.\n",
    "Usando il metodo dump `joblib.dump(mio_modello, prediction.pkl)` l'estensione non è importante ma tradizionalmente si usa pkl (pickle).\n",
    "\n",
    "Per usare il modello si usa il metodo `joblib.load(nome_modello.pkl)`\n",
    "\n",
    "Il training serve a generare il modello, trovato il modello lo salvo in binario e lo importo e uso quando serve"
   ]
  },
  {
   "attachments": {},
   "cell_type": "markdown",
   "metadata": {},
   "source": [
    "## MLEM\n",
    "\n",
    "Nuova libreria che funziona come joblib ma permette, tramite metatag, di far capire agli sviluppatori come utilizzare il modello cosa che con joblib non era possibile.\n",
    "I metodi da usare sono:\n",
    "- per la generazione `mlem.api.save(nome_modello, nome_modello_, sample_data= X_train)` dove nome_modello è il file binario, nome_modello_ è il file di metatag, sample_data= è l'array preso per generare il modello.\n",
    "- `mlel.api.load()`"
   ]
  },
  {
   "cell_type": "code",
   "execution_count": null,
   "metadata": {},
   "outputs": [],
   "source": [
    "## Generazione del modello \n",
    "\n"
   ]
  }
 ],
 "metadata": {
  "kernelspec": {
   "display_name": "streamlit",
   "language": "python",
   "name": "python3"
  },
  "language_info": {
   "codemirror_mode": {
    "name": "ipython",
    "version": 3
   },
   "file_extension": ".py",
   "mimetype": "text/x-python",
   "name": "python",
   "nbconvert_exporter": "python",
   "pygments_lexer": "ipython3",
   "version": "3.10.6"
  },
  "orig_nbformat": 4
 },
 "nbformat": 4,
 "nbformat_minor": 2
}
